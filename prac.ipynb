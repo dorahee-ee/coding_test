{
 "cells": [
  {
   "cell_type": "code",
   "execution_count": 7,
   "metadata": {},
   "outputs": [
    {
     "name": "stdout",
     "output_type": "stream",
     "text": [
      "['c', 'e', 'f', 'g', 'h']\n"
     ]
    }
   ],
   "source": [
    "s = 'aukks'\n",
    "index = 5\n",
    "\n",
    "asc = ord('a')\n",
    "A = [chr(asc+i) for i in range(1, index+1)]\n",
    "cnt = 0\n",
    "skip = 'wbqd'\n",
    "for a in A:\n",
    "    if a in skip:\n",
    "        A.remove(a)\n",
    "        cnt += 1\n",
    "add = [chr(asc+i) for i in range(index+1, index+cnt+1)]\n",
    "A += add\n",
    "print(A)"
   ]
  },
  {
   "cell_type": "code",
   "execution_count": 3,
   "metadata": {},
   "outputs": [
    {
     "name": "stdout",
     "output_type": "stream",
     "text": [
      "b\n"
     ]
    }
   ],
   "source": [
    "asc = ord('a')\n",
    "print(chr(asc+1))"
   ]
  },
  {
   "cell_type": "code",
   "execution_count": 4,
   "metadata": {},
   "outputs": [
    {
     "data": {
      "text/plain": [
       "[0, 1, 2, 3]"
      ]
     },
     "execution_count": 4,
     "metadata": {},
     "output_type": "execute_result"
    }
   ],
   "source": [
    "[chr(asc+i) for i in range(1, index+1)]"
   ]
  },
  {
   "cell_type": "code",
   "execution_count": 8,
   "metadata": {},
   "outputs": [
    {
     "name": "stdout",
     "output_type": "stream",
     "text": [
      "i\n"
     ]
    }
   ],
   "source": [
    "a = ''\n",
    "a += 'i'\n",
    "print(a)"
   ]
  },
  {
   "cell_type": "code",
   "execution_count": 11,
   "metadata": {},
   "outputs": [
    {
     "name": "stdout",
     "output_type": "stream",
     "text": [
      "happy\n"
     ]
    }
   ],
   "source": [
    "s = 'aukks'\n",
    "skip = 'wbqd'\n",
    "index = 5\n",
    "answer = ''\n",
    "\n",
    "for k in s:\n",
    "    asc = ord(k)\n",
    "    A = [chr(asc+i) for i in range(1, index+1)]\n",
    "    cnt = 0\n",
    "    for a in A:\n",
    "        if a in skip:\n",
    "            A.remove(a)\n",
    "            cnt += 1\n",
    "    add = []\n",
    "    last = ord(A[-1])\n",
    "    for i in range(1, cnt+1):\n",
    "        if last+i > 122:\n",
    "            last = 97\n",
    "            add.append(chr(last))\n",
    "            continue\n",
    "        last += 1\n",
    "        add.append(chr(last))\n",
    "    A += add\n",
    "    answer += A[-1]\n",
    "\n",
    "print(answer)\n"
   ]
  },
  {
   "cell_type": "code",
   "execution_count": null,
   "metadata": {},
   "outputs": [],
   "source": [
    "s = \"try hello world\"\n"
   ]
  }
 ],
 "metadata": {
  "kernelspec": {
   "display_name": "Python 3",
   "language": "python",
   "name": "python3"
  },
  "language_info": {
   "codemirror_mode": {
    "name": "ipython",
    "version": 3
   },
   "file_extension": ".py",
   "mimetype": "text/x-python",
   "name": "python",
   "nbconvert_exporter": "python",
   "pygments_lexer": "ipython3",
   "version": "3.11.3"
  },
  "orig_nbformat": 4
 },
 "nbformat": 4,
 "nbformat_minor": 2
}
